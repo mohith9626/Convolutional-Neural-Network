{
 "cells": [
  {
   "cell_type": "markdown",
   "metadata": {
    "colab_type": "text",
    "id": "XSfnuObtYYMH"
   },
   "source": [
    "# CSE527 Homework 4\n",
    "**Due date: 23:59 on Nov. 5, 2019 (Thuesday)**\n",
    "\n",
    "In this semester, we will use Google Colab for the assignments, which allows us to utilize resources that some of us might not have in their local machines such as GPUs. You will need to use your Stony Brook (*.stonybrook.edu) account for coding and Google Drive to save your results.\n",
    "\n",
    "## Google Colab Tutorial\n",
    "---\n",
    "Go to https://colab.research.google.com/notebooks/, you will see a tutorial named \"Welcome to Colaboratory\" file, where you can learn the basics of using google colab.\n",
    "\n",
    "Settings used for assignments: ***Edit -> Notebook Settings -> Runtime Type (Python 3)***.\n",
    "\n",
    "\n",
    "## Description\n",
    "---\n",
    "This project is an introduction to deep learning tools for computer vision. You will design and train deep convolutional networks for scene recognition using [PyTorch](http://pytorch.org). You can visualize the\n",
    "structure of the network with [mNeuron] (http://vision03.csail.mit.edu/cnn_art/index.html)\n",
    "\n",
    "Remember Homework 3: Scene recognition with bag of words. You worked hard to design a bag of features representations that achieved 60% to 70% accuracy (most likely) on 16-way scene classification. We're going to attack the same task with deep learning and get higher accuracy. Training from scratch won't work quite as well as homework 3 due to the insufficient amount of data, fine-tuning an existing network will work much better than homework 3.\n",
    "\n",
    "In Problem 1 of the project you will train a deep convolutional network from scratch to recognize scenes. The starter codes gives you methods to load data and display them. You will need to define a simple network architecture and add jittering, normalization, and regularization to increase recognition accuracy to 50, 60, or perhaps 70%. Unfortunately, we only have 2,400 training examples so it doesn't seem possible to train a network from scratch which outperforms hand-crafted features\n",
    "\n",
    "For Problem 2 you will instead fine-tune a pre-trained deep network to achieve about 85% accuracy on the task. We will use the pretrained AlexNet network which was not trained to recognize scenes at all. \n",
    "\n",
    "These two approaches represent the most common approaches to recognition problems in computer vision today -- train a deep network from scratch if you have enough data (it's not always obvious whether or not you do), and if you cannot then instead fine-tune a pre-trained network.\n",
    "\n",
    "There are 2 problems in this homework with a total of 110 points including 10 bonus points. Be sure to read **Submission Guidelines** below. They are important. For the problems requiring text descriptions, you might want to add a markdown block for that.\n",
    "\n",
    "## Dataset\n",
    "---\n",
    "Save the [dataset(click me)](https://drive.google.com/open?id=1NWC3TMsXSWN2TeoYMCjhf2N1b-WRDh-M) into your working folder in your Google Drive for this homework. <br>\n",
    "Under your root folder, there should be a folder named \"data\" (i.e. XXX/Surname_Givenname_SBUID/data) containing the images.\n",
    "**Do not upload** the data subfolder before submitting on blackboard due to size limit. There should be only one .ipynb file under your root folder Surname_Givenname_SBUID.\n",
    "\n",
    "## Some Tutorials (PyTorch)\n",
    "---\n",
    "- You will be using PyTorch for deep learning toolbox (follow the [link](http://pytorch.org) for installation).\n",
    "- For PyTorch beginners, please read this [tutorial](http://pytorch.org/tutorials/beginner/deep_learning_60min_blitz.html) before doing your homework.\n",
    "- Feel free to study more tutorials at http://pytorch.org/tutorials/.\n",
    "- Find cool visualization here at http://playground.tensorflow.org.\n",
    "\n"
   ]
  },
  {
   "cell_type": "code",
   "execution_count": 0,
   "metadata": {
    "colab": {},
    "colab_type": "code",
    "id": "0UA6WFgcYYMI"
   },
   "outputs": [],
   "source": [
    "# import packages here\n",
    "import cv2\n",
    "import numpy as np\n",
    "import matplotlib.pyplot as plt\n",
    "import glob\n",
    "import random \n",
    "import time\n",
    "\n",
    "import torch\n",
    "import torchvision\n",
    "import torchvision.transforms as transforms\n",
    "\n",
    "from torch.autograd import Variable\n",
    "import torch.nn as nn\n",
    "import torch.nn.functional as F"
   ]
  },
  {
   "cell_type": "code",
   "execution_count": 0,
   "metadata": {
    "colab": {
     "base_uri": "https://localhost:8080/",
     "height": 55
    },
    "colab_type": "code",
    "executionInfo": {
     "elapsed": 582,
     "status": "ok",
     "timestamp": 1573027169740,
     "user": {
      "displayName": "Mohith Kurakula",
      "photoUrl": "",
      "userId": "02980628503105430233"
     },
     "user_tz": 300
    },
    "id": "L7T72O-1ks-a",
    "outputId": "9ad3a37f-94b9-427e-ba27-a7c8acc806c1"
   },
   "outputs": [
    {
     "name": "stdout",
     "output_type": "stream",
     "text": [
      "Drive already mounted at /content/gdrive; to attempt to forcibly remount, call drive.mount(\"/content/gdrive\", force_remount=True).\n"
     ]
    }
   ],
   "source": [
    "# Mount your google drive where you've saved your assignment folder\n",
    "from google.colab import drive\n",
    "drive.mount('/content/gdrive')"
   ]
  },
  {
   "cell_type": "code",
   "execution_count": 0,
   "metadata": {
    "colab": {
     "base_uri": "https://localhost:8080/",
     "height": 35
    },
    "colab_type": "code",
    "executionInfo": {
     "elapsed": 335,
     "status": "ok",
     "timestamp": 1573027193237,
     "user": {
      "displayName": "Mohith Kurakula",
      "photoUrl": "",
      "userId": "02980628503105430233"
     },
     "user_tz": 300
    },
    "id": "xIT3WIuykrg0",
    "outputId": "d89015c0-8f8b-450d-e930-7ae86450652e"
   },
   "outputs": [
    {
     "name": "stdout",
     "output_type": "stream",
     "text": [
      "/content/gdrive/My Drive/CSE527_HW4_Fall19\n"
     ]
    }
   ],
   "source": [
    "# Set your working directory (in your google drive)\n",
    "# Note that 'gdrive/My Drive/Y2019Fall/CSE-527-Intro-To-Computer-Vision/hw4' is just an example, \n",
    "#   change it to your specific homework directory.\n",
    "cd '/content/gdrive/My Drive/Kurakula_Mohith_112504214_HW4'"
   ]
  },
  {
   "cell_type": "code",
   "execution_count": 0,
   "metadata": {
    "colab": {
     "base_uri": "https://localhost:8080/",
     "height": 55
    },
    "colab_type": "code",
    "executionInfo": {
     "elapsed": 1305,
     "status": "ok",
     "timestamp": 1573027204556,
     "user": {
      "displayName": "Mohith Kurakula",
      "photoUrl": "",
      "userId": "02980628503105430233"
     },
     "user_tz": 300
    },
    "id": "0NxnBcUqk_9B",
    "outputId": "5d46ce40-3444-4504-c508-30a93b030521"
   },
   "outputs": [
    {
     "name": "stdout",
     "output_type": "stream",
     "text": [
      "class_names: {0: 'OpenCountry', 1: 'Street', 2: 'Office', 3: 'Suburb', 4: 'InsideCity', 5: 'Kitchen', 6: 'Store', 7: 'LivingRoom', 8: 'TallBuilding', 9: 'Mountain', 10: 'Coast', 11: 'Forest', 12: 'Highway', 13: 'Flower', 14: 'Bedroom', 15: 'Industrial', 16: '_DS_Store'} \n"
     ]
    }
   ],
   "source": [
    "# ==========================================\n",
    "#    Load Training Data and Testing Data\n",
    "# ==========================================\n",
    "class_names = [name[13:] for name in glob.glob('./data/train/*')]\n",
    "class_names = dict(zip(range(len(class_names)), class_names))\n",
    "print(\"class_names: %s \" % class_names)\n",
    "n_train_samples = 150\n",
    "n_test_samples = 50\n",
    "\n",
    "\n",
    "def img_norm(img):\n",
    "  #\n",
    "  # Write your code here\n",
    "  norm_img= 2 * (np.float32(img) / 255 - 0.5)     # normalize img pixels to [-1, 1]\n",
    "  #\n",
    "  return norm_img\n",
    "  \n",
    "def load_dataset(path, img_size, num_per_class=-1, batch_num=1, shuffle=False, augment=False, is_color=False,\n",
    "                rotate_90=False, zero_centered=False):\n",
    "    \n",
    "    data = []\n",
    "    labels = []\n",
    "    \n",
    "    if is_color:\n",
    "        channel_num = 3\n",
    "    else:\n",
    "        channel_num = 1\n",
    "        \n",
    "    # read images and resizing\n",
    "    for id, class_name in class_names.items():\n",
    "        print(\"Loading images from class: %s\" % id)\n",
    "        img_path_class = glob.glob(path + class_name + '/*.jpg')\n",
    "        if num_per_class > 0:\n",
    "            img_path_class = img_path_class[:num_per_class]\n",
    "        labels.extend([id]*len(img_path_class))\n",
    "        for filename in img_path_class:\n",
    "            if is_color:\n",
    "                img = cv2.imread(filename)\n",
    "            else:\n",
    "                img = cv2.imread(filename, 0)\n",
    "            \n",
    "            # resize the image\n",
    "            img = cv2.resize(img, img_size, cv2.INTER_LINEAR)\n",
    "            \n",
    "            if is_color:\n",
    "                img = np.transpose(img, [2, 0, 1])\n",
    "            \n",
    "            # norm pixel values to [-1, 1]\n",
    "            data.append(img_norm(img))\n",
    "            \n",
    "    #\n",
    "    # Write your Data Augmentation code here\n",
    "    # mirroring\n",
    "    #\n",
    "    if augment:\n",
    "      augment_data= [np.flip(img, 1) for img in data]\n",
    "      data.extend(augment_data)\n",
    "      labels.extend(labels)\n",
    "\n",
    "      \n",
    "            \n",
    "    #\n",
    "    # Write your Data Normalization code here\n",
    "    # norm data to zero-centered\n",
    "    #\n",
    "     \n",
    "    # randomly permute (this step is important for training)\n",
    "    if shuffle:\n",
    "        bundle = list(zip(data, labels))\n",
    "        random.shuffle(bundle)\n",
    "        data, labels = zip(*bundle)\n",
    "    \n",
    "    # divide data into minibatches of TorchTensors\n",
    "    if batch_num > 1:\n",
    "        batch_data = []\n",
    "        batch_labels = []\n",
    "        \n",
    "        print(len(data))\n",
    "        print(batch_num)\n",
    "        \n",
    "        for i in range(int(len(data) / batch_num)):\n",
    "            minibatch_d = data[i*batch_num: (i+1)*batch_num]\n",
    "            minibatch_d = np.reshape(minibatch_d, (batch_num, channel_num, img_size[0], img_size[1]))\n",
    "            batch_data.append(torch.from_numpy(minibatch_d))\n",
    "\n",
    "            minibatch_l = labels[i*batch_num: (i+1)*batch_num]\n",
    "            batch_labels.append(torch.LongTensor(minibatch_l))\n",
    "        data, labels = batch_data, batch_labels \n",
    "    \n",
    "    return zip(batch_data, batch_labels)"
   ]
  },
  {
   "cell_type": "code",
   "execution_count": 0,
   "metadata": {
    "colab": {
     "base_uri": "https://localhost:8080/",
     "height": 711
    },
    "colab_type": "code",
    "executionInfo": {
     "elapsed": 12278,
     "status": "ok",
     "timestamp": 1573027221290,
     "user": {
      "displayName": "Mohith Kurakula",
      "photoUrl": "",
      "userId": "02980628503105430233"
     },
     "user_tz": 300
    },
    "id": "wHI2VYbDloje",
    "outputId": "c10a3cc8-edc7-4940-f998-bf0ec81fe25b"
   },
   "outputs": [
    {
     "name": "stdout",
     "output_type": "stream",
     "text": [
      "Loading images from class: 0\n",
      "Loading images from class: 1\n",
      "Loading images from class: 2\n",
      "Loading images from class: 3\n",
      "Loading images from class: 4\n",
      "Loading images from class: 5\n",
      "Loading images from class: 6\n",
      "Loading images from class: 7\n",
      "Loading images from class: 8\n",
      "Loading images from class: 9\n",
      "Loading images from class: 10\n",
      "Loading images from class: 11\n",
      "Loading images from class: 12\n",
      "Loading images from class: 13\n",
      "Loading images from class: 14\n",
      "Loading images from class: 15\n",
      "Loading images from class: 16\n",
      "4800\n",
      "50\n",
      "Finish loading 96 minibatches(=50) of training samples.\n",
      "Loading images from class: 0\n",
      "Loading images from class: 1\n",
      "Loading images from class: 2\n",
      "Loading images from class: 3\n",
      "Loading images from class: 4\n",
      "Loading images from class: 5\n",
      "Loading images from class: 6\n",
      "Loading images from class: 7\n",
      "Loading images from class: 8\n",
      "Loading images from class: 9\n",
      "Loading images from class: 10\n",
      "Loading images from class: 11\n",
      "Loading images from class: 12\n",
      "Loading images from class: 13\n",
      "Loading images from class: 14\n",
      "Loading images from class: 15\n",
      "Loading images from class: 16\n",
      "400\n",
      "50\n",
      "Finish loading 8 minibatches(=50) of testing samples.\n"
     ]
    }
   ],
   "source": [
    "# load data into size (64, 64)\n",
    "img_size = (64, 64)\n",
    "batch_num = 50 # training sample number per batch\n",
    "\n",
    "# load training dataset\n",
    "trainloader_small = list(load_dataset('./data/train/', img_size, batch_num=batch_num, shuffle=True, \n",
    "                                      augment=True, zero_centered=True))\n",
    "train_num = len(trainloader_small)\n",
    "print(\"Finish loading %d minibatches(=%d) of training samples.\" % (train_num, batch_num))\n",
    "\n",
    "# load testing dataset\n",
    "testloader_small = list(load_dataset('./data/test/', img_size, num_per_class=50, batch_num=batch_num))\n",
    "test_num = len(testloader_small)\n",
    "print(\"Finish loading %d minibatches(=%d) of testing samples.\" % (test_num, batch_num))"
   ]
  },
  {
   "cell_type": "code",
   "execution_count": 0,
   "metadata": {
    "colab": {
     "base_uri": "https://localhost:8080/",
     "height": 285
    },
    "colab_type": "code",
    "executionInfo": {
     "elapsed": 598,
     "status": "ok",
     "timestamp": 1573021410872,
     "user": {
      "displayName": "Mohith Kurakula",
      "photoUrl": "",
      "userId": "02980628503105430233"
     },
     "user_tz": 300
    },
    "id": "krCXjDOzlq0f",
    "outputId": "bbd32ee6-f754-4a94-9820-8f73cacbaeb0"
   },
   "outputs": [
    {
     "name": "stdout",
     "output_type": "stream",
     "text": [
      "Kitchen\n"
     ]
    },
    {
     "data": {
      "image/png": "[encoded data removed]",
      "text/plain": [
       "<Figure size 432x288 with 1 Axes>"
      ]
     },
     "metadata": {
      "tags": []
     },
     "output_type": "display_data"
    }
   ],
   "source": [
    "# show some images\n",
    "def imshow(img):\n",
    "    img = img / 2 + 0.5     # unnormalize\n",
    "    npimg = img.numpy()\n",
    "    if len(npimg.shape) > 2:\n",
    "        npimg = np.transpose(img, [1, 2, 0])\n",
    "    plt.figure\n",
    "    plt.imshow(npimg, 'gray')\n",
    "    plt.show()\n",
    "img, label = trainloader_small[0][0][11][0], trainloader_small[0][1][11]\n",
    "label = int(np.array(label))\n",
    "print(class_names[label])\n",
    "imshow(img)"
   ]
  },
  {
   "cell_type": "markdown",
   "metadata": {
    "colab_type": "text",
    "id": "JGA-K6QzYYMR"
   },
   "source": [
    "## Problem 1: Training a Network From Scratch\n",
    "{Part 1: 35 points} Gone are the days of hand designed features. Now we have end-to-end learning in which a highly non-linear representation is learned for our data to maximize our objective (in this case, 16-way classification accuracy). Instead of 70% accuracy we can now recognize scenes with... 25% accuracy. OK, that didn't work at all. Try to boost the accuracy by doing the following:\n",
    "\n",
    "**Data Augmentation**: We don't have enough training data, let's augment the training data.\n",
    "If you left-right flip (mirror) an image of a scene, it never changes categories. A kitchen doesn't become a forest when mirrored. This isn't true in all domains — a \"d\" becomes a \"b\" when mirrored, so you can't \"jitter\" digit recognition training data in the same way. But we can synthetically increase our amount of training data by left-right mirroring training images during the learning process.\n",
    "\n",
    "After you implement mirroring, you should notice that your training error doesn't drop as quickly. That's actually a good thing, because it means the network isn't overfitting to the 2,400 original training images as much (because it sees 4,800 training images now, although they're not as good as 4,800 truly independent samples). Because the training and test errors fall more slowly, you may need more training epochs or you may try modifying the learning rate. You should see a roughly 10% increase in accuracy by adding mirroring. You are **required** to implement mirroring as data augmentation for this part.\n",
    "\n",
    "You can try more elaborate forms of jittering -- zooming in a random amount, rotating a random amount, taking a random crop, etc. These are not required, you might want to try these in the bonus part.\n",
    "\n",
    "**Data Normalization**: The images aren't zero-centered. One simple trick which can help a lot is to subtract the mean from every image. It would arguably be more proper to only compute the mean from the training images (since the test/validation images should be strictly held out) but it won't make much of a difference. After doing this you should see another 15% or so increase in accuracy. This part is **required**.\n",
    "\n",
    "**Network Regularization**: Add dropout layer. If you train your network (especially for more than the default 30 epochs) you'll see that the training error can decrease to zero while the val top1 error hovers at 40% to 50%. The network has learned weights which can perfectly recognize the training data, but those weights don't generalize to held out test data. The best regularization would be more training data but we don't have that. Instead we will use dropout regularization.\n",
    "\n",
    "What does dropout regularization do? It randomly turns off network connections at training time to fight overfitting. This prevents a unit in one layer from relying too strongly on a single unit in the previous layer. Dropout regularization can be interpreted as simultaneously training many \"thinned\" versions of your network. At test, all connections are restored which is analogous to taking an average prediction over all of the \"thinned\" networks. You can see a more complete discussion of dropout regularization in this [paper](https://www.cs.toronto.edu/~hinton/absps/JMLRdropout.pdf).\n",
    "\n",
    "The dropout layer has only one free parameter — the dropout rate — the proportion of connections that are randomly deleted. The default of 0.5 should be fine. Insert a dropout layer between your convolutional layers. In particular, insert it directly before your last convolutional layer. Your test accuracy should increase by another 10%. Your train accuracy should decrease much more slowly. That's to be expected — you're making life much harder for the training algorithm by cutting out connections randomly. \n",
    "\n",
    "If you increase the number of training epochs (and maybe decrease the learning rate) you should be able to achieve around 50% test accuracy. In this part, you are **required** to add dropout layer to your network.\n",
    "\n",
    "Please give detailed descriptions of your network layout in the following format:<br>\n",
    "Data augmentation: [descriptions]<br>\n",
    "Data normalization: [descriptions]<br>\n",
    "Layer 1: [layer_type]: [Parameters]<br>\n",
    "Layer 2: [layer_type]: [Parameters]<br>\n",
    "...<br>\n",
    "Then report the final accuracy on test set and time consumed for training and testing separately.\n",
    "\n",
    "{Part 2: 15 points} Try **three techniques** taught in the class to increase the accuracy of your model. Such as increasing training data by randomly rotating training images, adding batch normalization, different activation functions (e.g., sigmoid) and model architecture modification. Note that too many layers can do you no good due to insufficient training data. Clearly describe your method and accuracy increase/decrease for each of the three techniques."
   ]
  },
  {
   "cell_type": "markdown",
   "metadata": {
    "colab_type": "text",
    "id": "q-jZlLSH5zFu"
   },
   "source": [
    "# 1a)\n",
    "\n",
    "  **Data Augmentation**: We use mirroring of the image here. we increase the number of training images by using np.flip to flip each image horizontally.\n",
    "\n",
    "**Data Normolization**  : The pixels are normalized to [-1,1],we get this by dividing each pixel by 255, subracting mean(0.5) and multiplying by 2. we can get this from the (show images unnormalize)\n",
    "\n",
    "**Network Architecture**: \n",
    "\n",
    "*   Convolution Layer : (input=1 ,output = 8, Kernel size=(6 X 6), stride=1)\n",
    "*   Rectified Linear Unit \n",
    "* Maxpool : (Kernel size= 6 ,stride = 6 ,padding =0 , dilation = 1 ,ceil_mode= False)\n",
    "* Dropout : (p=0.5)\n",
    "* Fully Linear Connected : (in_features=648,out_features = 16 ,bias = True)\n",
    "\n",
    "**Accuracy,Training and Testing Time**\n",
    "\n",
    "Total Training time:136.71501\n",
    "\n",
    "The accuracy of my Model is : 58%\n",
    "\n",
    "Total Testing Time: 0.093445\n",
    "\n",
    "And as we can see that as the epoch increases the loss decreases.\n",
    "\n",
    "\n"
   ]
  },
  {
   "cell_type": "code",
   "execution_count": 0,
   "metadata": {
    "colab": {
     "base_uri": "https://localhost:8080/",
     "height": 139
    },
    "colab_type": "code",
    "executionInfo": {
     "elapsed": 158223,
     "status": "ok",
     "timestamp": 1573025626098,
     "user": {
      "displayName": "Mohith Kurakula",
      "photoUrl": "",
      "userId": "02980628503105430233"
     },
     "user_tz": 300
    },
    "id": "clXaGdwaoIL7",
    "outputId": "8bddf3a9-f40c-44dc-9090-9565069b5bb2"
   },
   "outputs": [
    {
     "name": "stdout",
     "output_type": "stream",
     "text": [
      "Neural_arch(\n",
      "  (convloution): Conv2d(1, 8, kernel_size=(6, 6), stride=(1, 1))\n",
      "  (relu): ReLU()\n",
      "  (maxpool): MaxPool2d(kernel_size=6, stride=6, padding=0, dilation=1, ceil_mode=False)\n",
      "  (dropout): Dropout2d(p=0.5, inplace=False)\n",
      "  (fullyconnected): Linear(in_features=648, out_features=16, bias=True)\n",
      ")\n"
     ]
    }
   ],
   "source": [
    "# ==========================================\n",
    "#       Define Network Architecture\n",
    "# ==========================================\n",
    "\n",
    "class Neural_arch(nn.Module):\n",
    "    def __init__(self):\n",
    "      super(Neural_arch, self).__init__()\n",
    "      self.convloution = nn.Conv2d(1, 8, 6)\n",
    "      self.relu = nn.ReLU() \n",
    "      self.maxpool   = nn.MaxPool2d(6,6)                 \n",
    "      self.dropout   = nn.Dropout2d(p=0.5)\n",
    "      self.fullyconnected = nn.Linear(648,16)\n",
    "    def forward(self,x):\n",
    "      x= self.convloution(x)\n",
    "      x= self.relu(x)\n",
    "      x= self.maxpool(x)\n",
    "      x = x.view(-1, self.features(x))\n",
    "      x= self.dropout(x)\n",
    "      x= self.fullyconnected(x)\n",
    "      return x\n",
    "    def features(self ,x):\n",
    "      size=x.size()[1:]\n",
    "      features = 1\n",
    "      for i in size:\n",
    "        features= features*i\n",
    "      return features\n",
    "\n",
    "net= Neural_arch()\n",
    "print(net)\n"
   ]
  },
  {
   "cell_type": "code",
   "execution_count": 0,
   "metadata": {
    "colab": {
     "base_uri": "https://localhost:8080/",
     "height": 815
    },
    "colab_type": "code",
    "executionInfo": {
     "elapsed": 336239,
     "status": "ok",
     "timestamp": 1573025808506,
     "user": {
      "displayName": "Mohith Kurakula",
      "photoUrl": "",
      "userId": "02980628503105430233"
     },
     "user_tz": 300
    },
    "id": "sNJTDG8xoJwH",
    "outputId": "545481b4-b1da-429e-f00d-fe50b6f746b9"
   },
   "outputs": [
    {
     "name": "stdout",
     "output_type": "stream",
     "text": [
      "Epoch:1 loss 4.18\n",
      "Epoch:2 loss 3.48\n",
      "Epoch:3 loss 3.11\n",
      "Epoch:4 loss 2.87\n",
      "Epoch:5 loss 2.78\n",
      "Epoch:6 loss 2.68\n",
      "Epoch:7 loss 2.61\n",
      "Epoch:8 loss 2.57\n",
      "Epoch:9 loss 2.53\n",
      "Epoch:10 loss 2.49\n",
      "Epoch:11 loss 2.48\n",
      "Epoch:12 loss 2.44\n",
      "Epoch:13 loss 2.38\n",
      "Epoch:14 loss 2.34\n",
      "Epoch:15 loss 2.31\n",
      "Epoch:16 loss 2.31\n",
      "Epoch:17 loss 2.24\n",
      "Epoch:18 loss 2.24\n",
      "Epoch:19 loss 2.21\n",
      "Epoch:20 loss 2.23\n",
      "Epoch:21 loss 2.17\n",
      "Epoch:22 loss 2.13\n",
      "Epoch:23 loss 2.12\n",
      "Epoch:24 loss 2.12\n",
      "Epoch:25 loss 2.12\n",
      "Epoch:26 loss 2.09\n",
      "Epoch:27 loss 2.06\n",
      "Epoch:28 loss 2.05\n",
      "Epoch:29 loss 2.07\n",
      "Epoch:30 loss 2.05\n",
      "Epoch:31 loss 2.04\n",
      "Epoch:32 loss 2.02\n",
      "Epoch:33 loss 2.01\n",
      "Epoch:34 loss 2.00\n",
      "Epoch:35 loss 2.01\n",
      "Epoch:36 loss 1.98\n",
      "Epoch:37 loss 1.96\n",
      "Epoch:38 loss 1.96\n",
      "Epoch:39 loss 1.93\n",
      "Epoch:40 loss 1.98\n",
      "Epoch:41 loss 1.95\n",
      "Epoch:42 loss 1.94\n",
      "Epoch:43 loss 1.93\n",
      "Epoch:44 loss 1.90\n",
      "Epoch:45 loss 1.92\n",
      "Total Training time:181.95807\n"
     ]
    }
   ],
   "source": [
    "# ==========================================\n",
    "#         Optimize/Train Network\n",
    "# ==========================================\n",
    "import torch.optim as optim\n",
    "\n",
    "cross_entropy_loss = nn.CrossEntropyLoss()\n",
    "optimizer = optim.Adam(net.parameters(), lr = 0.001)\n",
    "def train_model(net,cross_entropy_loss,optimizer,epoch,trainloader_small):\n",
    "  train_start= time.time()\n",
    "  for epoch in range(epoch):\n",
    "    loss=0\n",
    "    for i, data in enumerate(trainloader_small,0):\n",
    "      inps ,labels= data\n",
    "      inps , labels = Variable(inps), Variable(labels)\n",
    "      optimizer.zero_grad()\n",
    "      net.train(True)\n",
    "      outs=net(inps)\n",
    "      cross_loss = cross_entropy_loss(outs,labels)\n",
    "      cross_loss.backward()\n",
    "      optimizer.step()\n",
    "      loss  = loss+ cross_loss.data\n",
    "    print('Epoch:{} loss {:.2f}'.format(epoch+1,loss/60))\n",
    "  train_end=time.time()  \n",
    "  return train_end-train_start\n",
    "\n",
    "  \n",
    "time_1=train_model(net,cross_entropy_loss,optimizer,45,trainloader_small)\n",
    "print(\"Total Training time:{:.5f}\".format(time_1))\n",
    "\n",
    "\n",
    "\n",
    "\n",
    "\n"
   ]
  },
  {
   "cell_type": "code",
   "execution_count": 0,
   "metadata": {
    "colab": {
     "base_uri": "https://localhost:8080/",
     "height": 52
    },
    "colab_type": "code",
    "executionInfo": {
     "elapsed": 271,
     "status": "ok",
     "timestamp": 1573025860105,
     "user": {
      "displayName": "Mohith Kurakula",
      "photoUrl": "",
      "userId": "02980628503105430233"
     },
     "user_tz": 300
    },
    "id": "m5sadf8qoOW6",
    "outputId": "f469ab7a-7103-488f-f2ad-3a59f6d6ecf1"
   },
   "outputs": [
    {
     "name": "stdout",
     "output_type": "stream",
     "text": [
      "The accuracy of my Model is : 58%\n",
      "Total Testing Time: 0.102821\n"
     ]
    }
   ],
   "source": [
    "# ==========================================\n",
    "#            Evaluating Network\n",
    "# ==========================================\n",
    "def test_model(net,testloader_small):\n",
    "  test_start = time.clock()\n",
    "  running_corrects = 0\n",
    "  total = 0\n",
    "  test_start=time.time()\n",
    "  for data in testloader_small:\n",
    "    imgs , labels = data\n",
    "    net.train(False)\n",
    "    outs=net(Variable(imgs))\n",
    "    _,prediction=torch.max(outs.data,1)\n",
    "    total=total+labels.size(0)\n",
    "    running_corrects=running_corrects+(prediction == labels).sum()\n",
    "  test_end=time.time()\n",
    "  return running_corrects,total, test_end-test_start\n",
    "  \n",
    "running_corrects,total,test_time=test_model(net,testloader_small)\n",
    "print(\"The accuracy of my Model is : {}%\".format(100*running_corrects/total))\n",
    "print(\"Total Testing Time: {:.6f}\".format(test_time))\n"
   ]
  },
  {
   "cell_type": "markdown",
   "metadata": {
    "colab_type": "text",
    "id": "14-U7Ng9qfc8"
   },
   "source": [
    "# 1b) \n",
    "**1.**  For the first one I added the BatchNorm2d and the results are as follows.\n",
    "\n",
    "**Accuracy,Training and Testing Time:**\n",
    "\n",
    "Total Training time:283.64072\n",
    "\n",
    "The accuracy of my Model is : 57%\n",
    "\n",
    "Total Testing Time: 0.127989\n",
    "\n",
    "The accuracy is almost same as that of the one for 1)a\n",
    "\n",
    "**2.**  For the second one i used the tanh activation and the results are as follows\n",
    "\n",
    "**Accuracy,Training and Testing Time:**\n",
    "\n",
    "Total Training time:208.70347\n",
    "\n",
    "The accuracy of my Model is : 60%\n",
    "\n",
    "Total Testing Time: 0.118239\n",
    "\n",
    "The accuracy we got from this one is greater than that of all others.It gives the highest accuracy\n",
    "\n",
    "**3.** For the tird one i used the sigmoid activation and the results are as follows:\n",
    "\n",
    "**Accuracy,Training and Testing Time:**\n",
    "\n",
    "Total Training time:220.62138\n",
    "\n",
    "The accuracy of my Model is : 46%\n",
    "\n",
    "Total Testing Time: 0.112651\n",
    "\n",
    "By using this sigmoid activation i got the least accuracy out of all the others.\n"
   ]
  },
  {
   "cell_type": "code",
   "execution_count": 0,
   "metadata": {
    "colab": {
     "base_uri": "https://localhost:8080/",
     "height": 988
    },
    "colab_type": "code",
    "executionInfo": {
     "elapsed": 284101,
     "status": "ok",
     "timestamp": 1573024907072,
     "user": {
      "displayName": "Mohith Kurakula",
      "photoUrl": "",
      "userId": "02980628503105430233"
     },
     "user_tz": 300
    },
    "id": "VMcYAVMnyA0x",
    "outputId": "fff4a317-5bcb-4b00-cb1b-b8248c618291"
   },
   "outputs": [
    {
     "name": "stdout",
     "output_type": "stream",
     "text": [
      "Model1(\n",
      "  (convloution): Conv2d(1, 8, kernel_size=(6, 6), stride=(1, 1))\n",
      "  (batch): BatchNorm2d(8, eps=1e-05, momentum=0.1, affine=True, track_running_stats=True)\n",
      "  (relu): ReLU()\n",
      "  (maxpool): MaxPool2d(kernel_size=6, stride=6, padding=0, dilation=1, ceil_mode=False)\n",
      "  (dropout): Dropout2d(p=0.5, inplace=False)\n",
      "  (fullyconnected): Linear(in_features=648, out_features=16, bias=True)\n",
      ")\n",
      "Epoch:1 loss 4.37\n",
      "Epoch:2 loss 3.83\n",
      "Epoch:3 loss 3.49\n",
      "Epoch:4 loss 3.24\n",
      "Epoch:5 loss 3.02\n",
      "Epoch:6 loss 2.81\n",
      "Epoch:7 loss 2.62\n",
      "Epoch:8 loss 2.58\n",
      "Epoch:9 loss 2.43\n",
      "Epoch:10 loss 2.39\n",
      "Epoch:11 loss 2.37\n",
      "Epoch:12 loss 2.26\n",
      "Epoch:13 loss 2.26\n",
      "Epoch:14 loss 2.25\n",
      "Epoch:15 loss 2.23\n",
      "Epoch:16 loss 2.18\n",
      "Epoch:17 loss 2.16\n",
      "Epoch:18 loss 2.15\n",
      "Epoch:19 loss 2.12\n",
      "Epoch:20 loss 2.12\n",
      "Epoch:21 loss 2.12\n",
      "Epoch:22 loss 2.07\n",
      "Epoch:23 loss 2.07\n",
      "Epoch:24 loss 2.07\n",
      "Epoch:25 loss 2.08\n",
      "Epoch:26 loss 2.05\n",
      "Epoch:27 loss 2.04\n",
      "Epoch:28 loss 2.04\n",
      "Epoch:29 loss 2.05\n",
      "Epoch:30 loss 2.00\n",
      "Epoch:31 loss 2.01\n",
      "Epoch:32 loss 1.99\n",
      "Epoch:33 loss 2.03\n",
      "Epoch:34 loss 1.94\n",
      "Epoch:35 loss 1.96\n",
      "Epoch:36 loss 2.01\n",
      "Epoch:37 loss 1.95\n",
      "Epoch:38 loss 1.96\n",
      "Epoch:39 loss 1.95\n",
      "Epoch:40 loss 1.95\n",
      "Epoch:41 loss 1.91\n",
      "Epoch:42 loss 1.92\n",
      "Epoch:43 loss 1.92\n",
      "Epoch:44 loss 1.95\n",
      "Epoch:45 loss 1.94\n",
      "Total Training time:283.64072\n",
      "The accuracy of my Model is : 57%\n",
      "Total Testing Time: 0.127989\n"
     ]
    }
   ],
   "source": [
    "class Model1(nn.Module):\n",
    "    def __init__(self):\n",
    "      super(Model1, self).__init__()\n",
    "      self.convloution = nn.Conv2d(1, 8, 6)\n",
    "      self.batch= nn.BatchNorm2d(8)\n",
    "      self.relu = nn.ReLU() \n",
    "      self.maxpool   = nn.MaxPool2d(6,6)                 \n",
    "      self.dropout   = nn.Dropout2d(p=0.5)\n",
    "      self.fullyconnected = nn.Linear(648,16)\n",
    "    def forward(self,x):\n",
    "      x= self.convloution(x)\n",
    "      x = self.batch(x)\n",
    "      x= self.relu(x)\n",
    "      x= self.maxpool(x)\n",
    "      x = x.view(-1, self.features(x))\n",
    "      x= self.dropout(x)\n",
    "      x= self.fullyconnected(x)\n",
    "      return x\n",
    "    def features(self ,x):\n",
    "      size=x.size()[1:]\n",
    "      features = 1\n",
    "      for i in size:\n",
    "        features= features*i\n",
    "      return features\n",
    "\n",
    "model1= Model1()\n",
    "print(model1)\n",
    "cross_entropy_loss1 = nn.CrossEntropyLoss()\n",
    "optimizer1 = optim.Adam(model1.parameters(), lr = 0.001)\n",
    "\n",
    "time_1=train_model(model1,cross_entropy_loss1,optimizer1,45,trainloader_small)\n",
    "print(\"Total Training time:{:.5f}\".format(time_1))\n",
    "\n",
    "running_corrects,total,test_time=test_model(model1,testloader_small)\n",
    "print(\"The accuracy of my Model is : {}%\".format(100*running_corrects/total))\n",
    "print(\"Total Testing Time: {:.6f}\".format(test_time))"
   ]
  },
  {
   "cell_type": "code",
   "execution_count": 0,
   "metadata": {
    "colab": {
     "base_uri": "https://localhost:8080/",
     "height": 971
    },
    "colab_type": "code",
    "executionInfo": {
     "elapsed": 209118,
     "status": "ok",
     "timestamp": 1573026086273,
     "user": {
      "displayName": "Mohith Kurakula",
      "photoUrl": "",
      "userId": "02980628503105430233"
     },
     "user_tz": 300
    },
    "id": "WQbYhkPafuO1",
    "outputId": "85fdf9ee-e67b-45b1-f714-5ba2edcb2118"
   },
   "outputs": [
    {
     "name": "stdout",
     "output_type": "stream",
     "text": [
      "Model2(\n",
      "  (convloution): Conv2d(1, 8, kernel_size=(6, 6), stride=(1, 1))\n",
      "  (tanh): Tanh()\n",
      "  (maxpool): MaxPool2d(kernel_size=6, stride=6, padding=0, dilation=1, ceil_mode=False)\n",
      "  (dropout): Dropout2d(p=0.5, inplace=False)\n",
      "  (fullyconnected): Linear(in_features=648, out_features=16, bias=True)\n",
      ")\n",
      "Epoch:1 loss 3.98\n",
      "Epoch:2 loss 3.39\n",
      "Epoch:3 loss 3.11\n",
      "Epoch:4 loss 2.93\n",
      "Epoch:5 loss 2.78\n",
      "Epoch:6 loss 2.65\n",
      "Epoch:7 loss 2.50\n",
      "Epoch:8 loss 2.40\n",
      "Epoch:9 loss 2.31\n",
      "Epoch:10 loss 2.24\n",
      "Epoch:11 loss 2.16\n",
      "Epoch:12 loss 2.09\n",
      "Epoch:13 loss 2.06\n",
      "Epoch:14 loss 2.00\n",
      "Epoch:15 loss 1.98\n",
      "Epoch:16 loss 1.93\n",
      "Epoch:17 loss 1.91\n",
      "Epoch:18 loss 1.87\n",
      "Epoch:19 loss 1.88\n",
      "Epoch:20 loss 1.81\n",
      "Epoch:21 loss 1.80\n",
      "Epoch:22 loss 1.82\n",
      "Epoch:23 loss 1.77\n",
      "Epoch:24 loss 1.78\n",
      "Epoch:25 loss 1.75\n",
      "Epoch:26 loss 1.74\n",
      "Epoch:27 loss 1.73\n",
      "Epoch:28 loss 1.71\n",
      "Epoch:29 loss 1.69\n",
      "Epoch:30 loss 1.67\n",
      "Epoch:31 loss 1.69\n",
      "Epoch:32 loss 1.66\n",
      "Epoch:33 loss 1.65\n",
      "Epoch:34 loss 1.66\n",
      "Epoch:35 loss 1.62\n",
      "Epoch:36 loss 1.65\n",
      "Epoch:37 loss 1.62\n",
      "Epoch:38 loss 1.63\n",
      "Epoch:39 loss 1.61\n",
      "Epoch:40 loss 1.61\n",
      "Epoch:41 loss 1.64\n",
      "Epoch:42 loss 1.60\n",
      "Epoch:43 loss 1.60\n",
      "Epoch:44 loss 1.60\n",
      "Epoch:45 loss 1.57\n",
      "Total Training time:208.70347\n",
      "The accuracy of my Model is : 60%\n",
      "Total Testing Time: 0.118239\n"
     ]
    }
   ],
   "source": [
    "class Model2(nn.Module):\n",
    "    def __init__(self):\n",
    "      super(Model2, self).__init__()\n",
    "      self.convloution = nn.Conv2d(1, 8, 6)\n",
    "      self.tanh = nn.Tanh() \n",
    "      self.maxpool   = nn.MaxPool2d(6,6)                 \n",
    "      self.dropout   = nn.Dropout2d(p=0.5)\n",
    "      self.fullyconnected = nn.Linear(648,16)\n",
    "    def forward(self,x):\n",
    "      x= self.convloution(x)\n",
    "      x= self.tanh(x)\n",
    "      x= self.maxpool(x)\n",
    "      x = x.view(-1, self.features(x))\n",
    "      x= self.dropout(x)\n",
    "      x= self.fullyconnected(x)\n",
    "      return x\n",
    "    def features(self ,x):\n",
    "      size=x.size()[1:]\n",
    "      features = 1\n",
    "      for i in size:\n",
    "        features= features*i\n",
    "      return features\n",
    "\n",
    "model2= Model2()\n",
    "print(model2)\n",
    "cross_entropy_loss2 = nn.CrossEntropyLoss()\n",
    "optimizer2 = optim.Adam(model2.parameters(), lr = 0.001)\n",
    "\n",
    "time_1=train_model(model2,cross_entropy_loss2,optimizer2,45,trainloader_small)\n",
    "print(\"Total Training time:{:.5f}\".format(time_1))\n",
    "\n",
    "running_corrects,total,test_time=test_model(model2,testloader_small)\n",
    "print(\"The accuracy of my Model is : {}%\".format(100*running_corrects/total))\n",
    "print(\"Total Testing Time: {:.6f}\".format(test_time))"
   ]
  },
  {
   "cell_type": "code",
   "execution_count": 0,
   "metadata": {
    "colab": {
     "base_uri": "https://localhost:8080/",
     "height": 971
    },
    "colab_type": "code",
    "executionInfo": {
     "elapsed": 221204,
     "status": "ok",
     "timestamp": 1573024094089,
     "user": {
      "displayName": "Mohith Kurakula",
      "photoUrl": "",
      "userId": "02980628503105430233"
     },
     "user_tz": 300
    },
    "id": "DffXg9Wvfvjp",
    "outputId": "e59e81c8-9088-4a98-e077-dcb469d4719f"
   },
   "outputs": [
    {
     "name": "stdout",
     "output_type": "stream",
     "text": [
      "Model3(\n",
      "  (convloution): Conv2d(1, 8, kernel_size=(6, 6), stride=(1, 1))\n",
      "  (sigmoid): Sigmoid()\n",
      "  (maxpool): MaxPool2d(kernel_size=6, stride=6, padding=0, dilation=1, ceil_mode=False)\n",
      "  (dropout): Dropout2d(p=0.5, inplace=False)\n",
      "  (fullyconnected): Linear(in_features=648, out_features=16, bias=True)\n",
      ")\n",
      "Epoch:1 loss 4.47\n",
      "Epoch:2 loss 4.24\n",
      "Epoch:3 loss 4.11\n",
      "Epoch:4 loss 4.06\n",
      "Epoch:5 loss 4.01\n",
      "Epoch:6 loss 3.98\n",
      "Epoch:7 loss 3.96\n",
      "Epoch:8 loss 3.92\n",
      "Epoch:9 loss 3.92\n",
      "Epoch:10 loss 3.89\n",
      "Epoch:11 loss 3.84\n",
      "Epoch:12 loss 3.83\n",
      "Epoch:13 loss 3.75\n",
      "Epoch:14 loss 3.72\n",
      "Epoch:15 loss 3.64\n",
      "Epoch:16 loss 3.58\n",
      "Epoch:17 loss 3.50\n",
      "Epoch:18 loss 3.44\n",
      "Epoch:19 loss 3.37\n",
      "Epoch:20 loss 3.29\n",
      "Epoch:21 loss 3.27\n",
      "Epoch:22 loss 3.20\n",
      "Epoch:23 loss 3.16\n",
      "Epoch:24 loss 3.11\n",
      "Epoch:25 loss 3.08\n",
      "Epoch:26 loss 3.07\n",
      "Epoch:27 loss 3.01\n",
      "Epoch:28 loss 3.01\n",
      "Epoch:29 loss 2.99\n",
      "Epoch:30 loss 2.97\n",
      "Epoch:31 loss 2.93\n",
      "Epoch:32 loss 2.90\n",
      "Epoch:33 loss 2.91\n",
      "Epoch:34 loss 2.90\n",
      "Epoch:35 loss 2.87\n",
      "Epoch:36 loss 2.84\n",
      "Epoch:37 loss 2.82\n",
      "Epoch:38 loss 2.83\n",
      "Epoch:39 loss 2.79\n",
      "Epoch:40 loss 2.80\n",
      "Epoch:41 loss 2.76\n",
      "Epoch:42 loss 2.77\n",
      "Epoch:43 loss 2.78\n",
      "Epoch:44 loss 2.74\n",
      "Epoch:45 loss 2.74\n",
      "Total Training time:220.62138\n",
      "The accuracy of my Model is : 46%\n",
      "Total Testing Time: 0.112651\n"
     ]
    }
   ],
   "source": [
    "class Model3(nn.Module):\n",
    "    def __init__(self):\n",
    "      super(Model3, self).__init__()\n",
    "      self.convloution = nn.Conv2d(1, 8, 6)\n",
    "      self.sigmoid = nn.Sigmoid() \n",
    "      self.maxpool   = nn.MaxPool2d(6,6)                 \n",
    "      self.dropout   = nn.Dropout2d(p=0.5)\n",
    "      self.fullyconnected = nn.Linear(648,16)\n",
    "    def forward(self,x):\n",
    "      x= self.convloution(x)\n",
    "      x= self.sigmoid(x)\n",
    "      x= self.maxpool(x)\n",
    "      x = x.view(-1, self.features(x))\n",
    "      x= self.dropout(x)\n",
    "      x= self.fullyconnected(x)\n",
    "      return x\n",
    "    def features(self ,x):\n",
    "      size=x.size()[1:]\n",
    "      features = 1\n",
    "      for i in size:\n",
    "        features= features*i\n",
    "      return features\n",
    "\n",
    "model3= Model3()\n",
    "print(model3)\n",
    "cross_entropy_loss3 = nn.CrossEntropyLoss()\n",
    "optimizer3 = optim.Adam(model3.parameters(), lr = 0.001)\n",
    "\n",
    "time_1=train_model(model3,cross_entropy_loss3,optimizer3,45,trainloader_small)\n",
    "print(\"Total Training time:{:.5f}\".format(time_1))\n",
    "\n",
    "running_corrects,total,test_time=test_model(model3,testloader_small)\n",
    "print(\"The accuracy of my Model is : {}%\".format(100*running_corrects/total))\n",
    "print(\"Total Testing Time: {:.6f}\".format(test_time))"
   ]
  },
  {
   "cell_type": "markdown",
   "metadata": {
    "colab_type": "text",
    "collapsed": true,
    "id": "nBHKIxzAYYM2"
   },
   "source": [
    "## Problem 2: Fine Tuning a Pre-Trained Deep Network\n",
    "{Part 1: 30 points} Our convolutional network to this point isn't \"deep\". Fortunately, the representations learned by deep convolutional networks is that they generalize surprisingly well to other recognition tasks. \n",
    "\n",
    "But how do we use an existing deep network for a new recognition task? Take for instance,  [AlexNet](http://papers.nips.cc/paper/4824-imagenet-classification-with-deep-convolutional-neural-networks) network has 1000 units in the final layer corresponding to 1000 ImageNet categories.\n",
    "\n",
    "**Strategy A**: One could use those 1000 activations as a feature in place of a hand crafted feature such as a bag-of-features representation. You would train a classifier (typically a linear SVM) in that 1000 dimensional feature space. However, those activations are clearly very object specific and may not generalize well to new recognition tasks. It is generally better to use the activations in slightly earlier layers of the network, e.g. the 4096 activations in the last 2nd fully-connected layer. You can often get away with sub-sampling those 4096 activations considerably, e.g. taking only the first 200 activations. \n",
    "\n",
    "**Strategy B**: *Fine-tune* an existing network. In this scenario you take an existing network, replace the final layer (or more) with random weights, and train the entire network again with images and ground truth labels for your recognition task. You are effectively treating the pre-trained deep network as a better initialization than the random weights used when training from scratch. When you don't have enough training data to train a complex network from scratch (e.g. with the 16 classes) this is an attractive option. Fine-tuning can work far better than Strategy A of taking the activations directly from an pre-trained CNN. For example, in [this paper](http://www.cc.gatech.edu/~hays/papers/deep_geo.pdf) from CVPR 2015, there wasn't enough data to train a deep network from scratch, but fine tuning led to 4 times higher accuracy than using off-the-shelf networks directly.\n",
    "\n",
    "You are required to implement **Strategy B** to fine-tune a pre-trained **AlexNet** for this scene classification task. You should be able to achieve performance of 85% approximately. It takes roughly 35~40 minutes to train 20 epoches with AlexNet.\n",
    "\n",
    "Please provide detailed descriptions of:<br>\n",
    "(1) which layers of AlexNet have been replaced<br>\n",
    "(2) the architecture of the new layers added including activation methods (same as problem 1)<br>\n",
    "(3) the final accuracy on test set along with time consumption for both training and testing <br>\n",
    "\n",
    "{Part 2: 20 points} Implement Strategy A where you use the activations of the pre-trained network as features to train one-vs-all SVMs for your scene classification task. Report the final accuracy on test set along with time consumption for both training and testing.\n",
    "\n",
    "{Bonus: 10 points} Bonus will be given to those who fine-tune the [VGG network](https://pytorch.org/docs/stable/_modules/torchvision/models/vgg.html) [paper](https://arxiv.org/pdf/1409.1556.pdf) and compare performance with AlexNet. Explain why VGG performed better or worse.\n",
    "\n",
    "**Hints**:\n",
    "- Many pre-trained models are available in PyTorch at [here](http://pytorch.org/docs/master/torchvision/models.html).\n",
    "- For fine-tuning pretrained network using PyTorch, please read this [tutorial](http://pytorch.org/tutorials/beginner/transfer_learning_tutorial.html)."
   ]
  },
  {
   "cell_type": "markdown",
   "metadata": {
    "colab_type": "text",
    "id": "RmwUdLnZ_Fos"
   },
   "source": [
    "\n",
    "\n"
   ]
  },
  {
   "cell_type": "code",
   "execution_count": 0,
   "metadata": {
    "colab": {
     "base_uri": "https://localhost:8080/",
     "height": 711
    },
    "colab_type": "code",
    "executionInfo": {
     "elapsed": 16302,
     "status": "ok",
     "timestamp": 1573016498646,
     "user": {
      "displayName": "Mohith Kurakula",
      "photoUrl": "",
      "userId": "02980628503105430233"
     },
     "user_tz": 300
    },
    "id": "VLG3WtEmYYM3",
    "outputId": "b7a237be-b4a5-412a-c5e6-67a30c8a6dfb"
   },
   "outputs": [
    {
     "name": "stdout",
     "output_type": "stream",
     "text": [
      "Loading images from class: 0\n",
      "Loading images from class: 1\n",
      "Loading images from class: 2\n",
      "Loading images from class: 3\n",
      "Loading images from class: 4\n",
      "Loading images from class: 5\n",
      "Loading images from class: 6\n",
      "Loading images from class: 7\n",
      "Loading images from class: 8\n",
      "Loading images from class: 9\n",
      "Loading images from class: 10\n",
      "Loading images from class: 11\n",
      "Loading images from class: 12\n",
      "Loading images from class: 13\n",
      "Loading images from class: 14\n",
      "Loading images from class: 15\n",
      "Loading images from class: 16\n",
      "2400\n",
      "50\n",
      "Finish loading 48 minibatches(=50) of training samples.\n",
      "Loading images from class: 0\n",
      "Loading images from class: 1\n",
      "Loading images from class: 2\n",
      "Loading images from class: 3\n",
      "Loading images from class: 4\n",
      "Loading images from class: 5\n",
      "Loading images from class: 6\n",
      "Loading images from class: 7\n",
      "Loading images from class: 8\n",
      "Loading images from class: 9\n",
      "Loading images from class: 10\n",
      "Loading images from class: 11\n",
      "Loading images from class: 12\n",
      "Loading images from class: 13\n",
      "Loading images from class: 14\n",
      "Loading images from class: 15\n",
      "Loading images from class: 16\n",
      "400\n",
      "50\n",
      "Finish loading 8 minibatches(=50) of testing samples.\n"
     ]
    }
   ],
   "source": [
    "# reload data with a larger size\n",
    "img_size = (224, 224)\n",
    "batch_num = 50 # training sample number per batch \n",
    "\n",
    "# load training dataset\n",
    "trainloader_large = list(load_dataset('./data/train/', img_size, batch_num=batch_num, shuffle=True, \n",
    "                                      augment=False, is_color=True, zero_centered=True))\n",
    "train_num = len(trainloader_large)\n",
    "print(\"Finish loading %d minibatches(=%d) of training samples.\" % (train_num, batch_num))\n",
    "\n",
    "# load testing dataset\n",
    "testloader_large = list(load_dataset('./data/test/', img_size, num_per_class=50, batch_num=batch_num, is_color=True))\n",
    "test_num = len(testloader_large)\n",
    "print(\"Finish loading %d minibatches(=%d) of testing samples.\" % (test_num, batch_num))"
   ]
  },
  {
   "cell_type": "code",
   "execution_count": 0,
   "metadata": {
    "colab": {},
    "colab_type": "code",
    "id": "btOal_ampEnm"
   },
   "outputs": [],
   "source": [
    "# ==========================================\n",
    "#       Fine-Tune Pretrained Network\n",
    "# ==========================================\n",
    "import torchvision.models as models\n",
    "alexnet = models.alexnet(pretrained=True)\n",
    "alexnet1= models.alexnet(pretrained=True)"
   ]
  },
  {
   "cell_type": "code",
   "execution_count": 0,
   "metadata": {
    "colab": {
     "base_uri": "https://localhost:8080/",
     "height": 485
    },
    "colab_type": "code",
    "executionInfo": {
     "elapsed": 826,
     "status": "ok",
     "timestamp": 1573007041502,
     "user": {
      "displayName": "Mohith Kurakula",
      "photoUrl": "",
      "userId": "02980628503105430233"
     },
     "user_tz": 300
    },
    "id": "Ga84oxjA7gHO",
    "outputId": "5b8d7268-9bdc-46be-f83c-b1968f86a3a6"
   },
   "outputs": [
    {
     "name": "stdout",
     "output_type": "stream",
     "text": [
      "AlexNet(\n",
      "  (features): Sequential(\n",
      "    (0): Conv2d(3, 64, kernel_size=(11, 11), stride=(4, 4), padding=(2, 2))\n",
      "    (1): ReLU(inplace=True)\n",
      "    (2): MaxPool2d(kernel_size=3, stride=2, padding=0, dilation=1, ceil_mode=False)\n",
      "    (3): Conv2d(64, 192, kernel_size=(5, 5), stride=(1, 1), padding=(2, 2))\n",
      "    (4): ReLU(inplace=True)\n",
      "    (5): MaxPool2d(kernel_size=3, stride=2, padding=0, dilation=1, ceil_mode=False)\n",
      "    (6): Conv2d(192, 384, kernel_size=(3, 3), stride=(1, 1), padding=(1, 1))\n",
      "    (7): ReLU(inplace=True)\n",
      "    (8): Conv2d(384, 256, kernel_size=(3, 3), stride=(1, 1), padding=(1, 1))\n",
      "    (9): ReLU(inplace=True)\n",
      "    (10): Conv2d(256, 256, kernel_size=(3, 3), stride=(1, 1), padding=(1, 1))\n",
      "    (11): ReLU(inplace=True)\n",
      "    (12): MaxPool2d(kernel_size=3, stride=2, padding=0, dilation=1, ceil_mode=False)\n",
      "  )\n",
      "  (avgpool): AdaptiveAvgPool2d(output_size=(6, 6))\n",
      "  (classifier): Sequential(\n",
      "    (0): Dropout(p=0.5, inplace=False)\n",
      "    (1): Linear(in_features=9216, out_features=4096, bias=True)\n",
      "    (2): ReLU(inplace=True)\n",
      "    (3): Dropout(p=0.5, inplace=False)\n",
      "    (4): Linear(in_features=4096, out_features=4096, bias=True)\n",
      "    (5): ReLU(inplace=True)\n",
      "    (6): Linear(in_features=4096, out_features=1000, bias=True)\n",
      "  )\n",
      ")\n"
     ]
    }
   ],
   "source": [
    "print (alexnet)\n"
   ]
  },
  {
   "cell_type": "markdown",
   "metadata": {
    "colab_type": "text",
    "id": "BmLVcMN4D9hM"
   },
   "source": [
    "#  Part 2 ----- Strategy A :\n",
    "\n",
    "**Layer Replace**: We remove the last layer from the alexnet pretrained model because we use it to learn only the features.\n",
    "\n",
    "**Architecture** As given in the question histograms are generated for the first 200 activations and we get the train and test hists and these are sent for training and testing svm model.\n",
    "\n",
    "**Accuracy and Time taken:**\n",
    "\n",
    "The accuracy of my Model is : 69.25%\n",
    "\n",
    "Total Training Time: 0.238635\n",
    "\n",
    "Total Testing Time: 0.005422\n",
    "\n"
   ]
  },
  {
   "cell_type": "code",
   "execution_count": 0,
   "metadata": {
    "colab": {
     "base_uri": "https://localhost:8080/",
     "height": 173
    },
    "colab_type": "code",
    "executionInfo": {
     "elapsed": 815,
     "status": "ok",
     "timestamp": 1573016544003,
     "user": {
      "displayName": "Mohith Kurakula",
      "photoUrl": "",
      "userId": "02980628503105430233"
     },
     "user_tz": 300
    },
    "id": "tcB5gQCcc6Kr",
    "outputId": "14f6b68e-e171-4181-e9ea-c50f1a506042"
   },
   "outputs": [
    {
     "name": "stdout",
     "output_type": "stream",
     "text": [
      "after deleting last layer\n",
      "Sequential(\n",
      "  (0): Dropout(p=0.5, inplace=False)\n",
      "  (1): Linear(in_features=9216, out_features=4096, bias=True)\n",
      "  (2): ReLU(inplace=True)\n",
      "  (3): Dropout(p=0.5, inplace=False)\n",
      "  (4): Linear(in_features=4096, out_features=4096, bias=True)\n",
      "  (5): ReLU(inplace=True)\n",
      ")\n"
     ]
    }
   ],
   "source": [
    "print(\"after deleting last layer\")\n",
    "del alexnet1.classifier[-1]\n",
    "print(alexnet1.classifier)"
   ]
  },
  {
   "cell_type": "code",
   "execution_count": 0,
   "metadata": {
    "colab": {},
    "colab_type": "code",
    "id": "eho6quQ6rvmv"
   },
   "outputs": [],
   "source": [
    "from sklearn import svm\n",
    "from sklearn.svm import LinearSVC\n",
    "\n",
    "def histogram(img):\n",
    "  image=img[:200]\n",
    "  t_sum=torch.sum(image)\n",
    "  norm=[i/t_sum for i in image]\n",
    "  histogram = [i.item() for i in norm]\n",
    "  #print(histogram)\n",
    "  return histogram\n",
    "\n",
    "labels_train=[]\n",
    "labels_test=[]\n",
    "hist_train=[]\n",
    "hist_test=[]\n",
    "#k=0\n",
    "for data in trainloader_large:\n",
    "  #k=k+1\n",
    "  #print(k)\n",
    "  imgs , labels = data\n",
    "  imgs ,labels = Variable(imgs), Variable(labels)\n",
    "  outs=alexnet1(imgs)\n",
    "  labels_train.append(labels)\n",
    "  for i in outs:\n",
    "    hist_train.append(histogram(i))\n",
    "\n",
    "#k=0\n",
    "#print(labels_train)\n",
    "# We use the same code which we used in the above for getting labels and using 2 loops to get the ind labels for the svm\n",
    "labels_svm_train=[]\n",
    "for i in labels_train:\n",
    "  for j in i:\n",
    "    labels_svm_train.append(j)\n",
    "#print(labels_svm_train)\n",
    "for data in testloader_large:\n",
    "  #k=k+1\n",
    "  #print(k)\n",
    "  imgs , labels = data\n",
    "  imgs ,labels = Variable(imgs), Variable(labels)\n",
    "  outs=alexnet1(imgs)\n",
    "  labels_test.append(labels)\n",
    "  for i in outs:\n",
    "    hist_test.append(histogram(i))\n",
    "labels_svm_test=[]\n",
    "for i in labels_test:\n",
    "  for j in i:\n",
    "    labels_svm_test.append(j)\n"
   ]
  },
  {
   "cell_type": "code",
   "execution_count": 0,
   "metadata": {
    "colab": {
     "base_uri": "https://localhost:8080/",
     "height": 69
    },
    "colab_type": "code",
    "executionInfo": {
     "elapsed": 1692,
     "status": "ok",
     "timestamp": 1573017151162,
     "user": {
      "displayName": "Mohith Kurakula",
      "photoUrl": "",
      "userId": "02980628503105430233"
     },
     "user_tz": 300
    },
    "id": "fCEHY-6xh1Fj",
    "outputId": "d4dae946-e39e-4809-91fd-fb7e612bfe6f"
   },
   "outputs": [
    {
     "name": "stdout",
     "output_type": "stream",
     "text": [
      "The accuracy of my Model is : 69.25%\n",
      "Total Training Time: 0.238635\n",
      "Total Testing Time: 0.005422\n"
     ]
    }
   ],
   "source": [
    "svm=LinearSVC(tol = 0.0000000001, max_iter = 100000)\n",
    "train_start = time.time()\n",
    "svm.fit(hist_train,labels_svm_train)\n",
    "train_end = time.time()\n",
    "\n",
    "test_start=time.time()\n",
    "prediction=svm.predict(hist_test)\n",
    "test_end=time.time()\n",
    "\n",
    "train_time = train_end-train_start\n",
    "test_time =  test_end -test_start\n",
    "accuracy = (np.sum(prediction == labels_svm_test)) / float(len(labels_svm_test))\n",
    "\n",
    "print(\"The accuracy of my Model is : {}%\".format(accuracy*100))\n",
    "print(\"Total Training Time: {:.6f}\".format(train_time))\n",
    "print(\"Total Testing Time: {:.6f}\".format(test_time))\n"
   ]
  },
  {
   "cell_type": "markdown",
   "metadata": {
    "colab_type": "text",
    "id": "uCY41PDIGQHK"
   },
   "source": [
    "#  Part1--------Strategy B  : \n",
    "\n",
    "**Replace Layer** : The last layer in alexnet classifier is replaced with the outputs = 16 as we have only 16 with the previous predefined 1000.\n",
    "\n",
    "Before:\n",
    "\n",
    "(classifier): Sequential(\n",
    "   *  (0): Dropout(p=0.5, inplace=False)\n",
    "   * (1): Linear(in_features=9216, out_features=4096, bias=True)\n",
    "   *  (2): ReLU(inplace=True)\n",
    "   * (3): Dropout(p=0.5, inplace=False)\n",
    "   * (4): Linear(in_features=4096, out_features=4096, bias=True)\n",
    "   * (5): ReLU(inplace=True)\n",
    "   * (6): Linear(in_features=4096, out_features=1000, bias=True)\n",
    "\n",
    "\n",
    "  After Modifying:\n",
    "\n",
    "  (classifier): Sequential(\n",
    "   *  (0): Dropout(p=0.5, inplace=False)\n",
    "   * (1): Linear(in_features=9216, out_features=4096, bias=True)\n",
    "   *  (2): ReLU(inplace=True)\n",
    "   * (3): Dropout(p=0.5, inplace=False)\n",
    "   * (4): Linear(in_features=4096, out_features=4096, bias=True)\n",
    "   * (5): ReLU(inplace=True)\n",
    "   * (6): Linear(in_features=4096, out_features=16, bias=True)\n",
    "\n",
    "**Architecture** : After replacing the last layer of the pretrained alexnet we use this replaced one for training and testing we use the sgd optimizer\n",
    "\n",
    "**Accuracy and Time Taken:**\n",
    "\n",
    "The accuracy of my Model is : 85%\n",
    "\n",
    "Total Training Time: 3898.3439407348633\n",
    "\n",
    "Total Testing Time: 10.751912832260132\n",
    "\n",
    "\n",
    "\n",
    "\n"
   ]
  },
  {
   "cell_type": "code",
   "execution_count": 0,
   "metadata": {
    "colab": {
     "base_uri": "https://localhost:8080/",
     "height": 867
    },
    "colab_type": "code",
    "executionInfo": {
     "elapsed": 3899262,
     "status": "ok",
     "timestamp": 1573011139898,
     "user": {
      "displayName": "Mohith Kurakula",
      "photoUrl": "",
      "userId": "02980628503105430233"
     },
     "user_tz": 300
    },
    "id": "xYgiS9v_EZrM",
    "outputId": "60eaba5d-5445-450d-a3cb-b92ee9ff148c"
   },
   "outputs": [
    {
     "name": "stdout",
     "output_type": "stream",
     "text": [
      "after Modifying\n",
      "AlexNet(\n",
      "  (features): Sequential(\n",
      "    (0): Conv2d(3, 64, kernel_size=(11, 11), stride=(4, 4), padding=(2, 2))\n",
      "    (1): ReLU(inplace=True)\n",
      "    (2): MaxPool2d(kernel_size=3, stride=2, padding=0, dilation=1, ceil_mode=False)\n",
      "    (3): Conv2d(64, 192, kernel_size=(5, 5), stride=(1, 1), padding=(2, 2))\n",
      "    (4): ReLU(inplace=True)\n",
      "    (5): MaxPool2d(kernel_size=3, stride=2, padding=0, dilation=1, ceil_mode=False)\n",
      "    (6): Conv2d(192, 384, kernel_size=(3, 3), stride=(1, 1), padding=(1, 1))\n",
      "    (7): ReLU(inplace=True)\n",
      "    (8): Conv2d(384, 256, kernel_size=(3, 3), stride=(1, 1), padding=(1, 1))\n",
      "    (9): ReLU(inplace=True)\n",
      "    (10): Conv2d(256, 256, kernel_size=(3, 3), stride=(1, 1), padding=(1, 1))\n",
      "    (11): ReLU(inplace=True)\n",
      "    (12): MaxPool2d(kernel_size=3, stride=2, padding=0, dilation=1, ceil_mode=False)\n",
      "  )\n",
      "  (avgpool): AdaptiveAvgPool2d(output_size=(6, 6))\n",
      "  (classifier): Sequential(\n",
      "    (0): Dropout(p=0.5, inplace=False)\n",
      "    (1): Linear(in_features=9216, out_features=4096, bias=True)\n",
      "    (2): ReLU(inplace=True)\n",
      "    (3): Dropout(p=0.5, inplace=False)\n",
      "    (4): Linear(in_features=4096, out_features=4096, bias=True)\n",
      "    (5): ReLU(inplace=True)\n",
      "    (6): Linear(in_features=4096, out_features=16, bias=True)\n",
      "  )\n",
      ")\n",
      "Epoch:1 loss 0.91\n",
      "Epoch:2 loss 0.32\n",
      "Epoch:3 loss 0.26\n",
      "Epoch:4 loss 0.19\n",
      "Epoch:5 loss 0.15\n",
      "Epoch:6 loss 0.12\n",
      "Epoch:7 loss 0.10\n",
      "Epoch:8 loss 0.09\n",
      "Epoch:9 loss 0.06\n",
      "Epoch:10 loss 0.05\n",
      "Epoch:11 loss 0.05\n",
      "Epoch:12 loss 0.04\n",
      "Epoch:13 loss 0.05\n",
      "Epoch:14 loss 0.04\n",
      "Epoch:15 loss 0.02\n",
      "Epoch:16 loss 0.04\n",
      "Epoch:17 loss 0.03\n",
      "Epoch:18 loss 0.02\n",
      "Epoch:19 loss 0.02\n",
      "Epoch:20 loss 0.01\n",
      "Total Training Time: 3898.3439407348633\n"
     ]
    }
   ],
   "source": [
    "net=list(alexnet.classifier)\n",
    "net[6]=nn.Linear(4096,16)\n",
    "net=nn.Sequential(*net)\n",
    "print(\"after Modifying\")\n",
    "alexnet.classifier= net\n",
    "print(alexnet)\n",
    "\n",
    "cross_entro_loss = nn.CrossEntropyLoss()\n",
    "sgd_optimizer = optim.SGD(alexnet.parameters(), lr=0.001, momentum=0.9)\n",
    "time_1=train_model(alexnet,cross_entro_loss,sgd_optimizer,20,trainloader_large)\n",
    "\n",
    "print(\"Total Training Time: {}\".format(time_1))\n"
   ]
  },
  {
   "cell_type": "code",
   "execution_count": 0,
   "metadata": {
    "colab": {
     "base_uri": "https://localhost:8080/",
     "height": 52
    },
    "colab_type": "code",
    "executionInfo": {
     "elapsed": 11583,
     "status": "ok",
     "timestamp": 1573011221517,
     "user": {
      "displayName": "Mohith Kurakula",
      "photoUrl": "",
      "userId": "02980628503105430233"
     },
     "user_tz": 300
    },
    "id": "63jE5moLN_gk",
    "outputId": "8615da2b-6db0-45dc-c0e7-31e4255b1381"
   },
   "outputs": [
    {
     "name": "stdout",
     "output_type": "stream",
     "text": [
      "The accuracy of my Model is : 85%\n",
      "Total Testing Time: 10.751912832260132\n"
     ]
    }
   ],
   "source": [
    "running_corrects,total,test_time=test_model(alexnet,testloader_large)\n",
    "print(\"The accuracy of my Model is : {}%\".format(100*running_corrects/total))\n",
    "print(\"Total Testing Time: {}\".format(test_time))\n",
    "\n"
   ]
  },
  {
   "cell_type": "markdown",
   "metadata": {
    "colab_type": "text",
    "id": "5UGefIYpYYNF"
   },
   "source": []
  },
  {
   "cell_type": "markdown",
   "metadata": {
    "colab_type": "text",
    "id": "AYJOi8QYYYNG"
   },
   "source": [
    "<!--Write your report here in markdown or html-->\n"
   ]
  },
  {
   "cell_type": "code",
   "execution_count": 0,
   "metadata": {
    "colab": {},
    "colab_type": "code",
    "id": "iZz7C92sesfL"
   },
   "outputs": [],
   "source": []
  }
 ],
 "metadata": {
  "accelerator": "GPU",
  "anaconda-cloud": {},
  "colab": {
   "collapsed_sections": [],
   "name": "Kurakula_Mohith_112504214_HW4.ipynb",
   "provenance": [],
   "toc_visible": true
  },
  "kernelspec": {
   "display_name": "Python 3",
   "language": "python",
   "name": "python3"
  },
  "language_info": {
   "codemirror_mode": {
    "name": "ipython",
    "version": 3
   },
   "file_extension": ".py",
   "mimetype": "text/x-python",
   "name": "python",
   "nbconvert_exporter": "python",
   "pygments_lexer": "ipython3",
   "version": "3.7.4"
  }
 },
 "nbformat": 4,
 "nbformat_minor": 1
}
